{
 "cells": [
  {
   "cell_type": "code",
   "id": "initial_id",
   "metadata": {
    "collapsed": true,
    "ExecuteTime": {
     "end_time": "2025-07-13T06:26:34.608486Z",
     "start_time": "2025-07-13T06:26:34.563210Z"
    }
   },
   "source": [
    "import folium\n",
    "from folium import plugins\n",
    "\n",
    "# Coordinates\n",
    "start = [0, 0]         # Start: (1° latitude, 5° longitude)\n",
    "destination = [0, 179]  # End: (75° latitude, -75° longitude)\n",
    "\n",
    "# Center point for map view\n",
    "mid_lat = (start[0] + destination[0]) / 2\n",
    "mid_lon = (start[1] + destination[1]) / 2\n",
    "\n",
    "# Create map\n",
    "m = folium.Map(location=[mid_lat, mid_lon], zoom_start=3)\n",
    "\n",
    "# Add markers\n",
    "folium.Marker(start, popup=\"Start: (1°, 5°)\", icon=folium.Icon(color=\"green\")).add_to(m)\n",
    "folium.Marker(destination, popup=\"Destination: (75°, -75°)\", icon=folium.Icon(color=\"red\")).add_to(m)\n",
    "\n",
    "# Draw line between the two points\n",
    "folium.PolyLine([start, destination], color=\"blue\", weight=2.5, opacity=0.8).add_to(m)\n",
    "\n",
    "# Add mini map\n",
    "plugins.MiniMap().add_to(m)\n",
    "\n",
    "# Save and open in browser\n",
    "m.save(\"geodesic_path_map.html\")\n"
   ],
   "outputs": [],
   "execution_count": 3
  },
  {
   "metadata": {
    "ExecuteTime": {
     "end_time": "2025-07-13T06:26:34.639819Z",
     "start_time": "2025-07-13T06:26:34.634989Z"
    }
   },
   "cell_type": "code",
   "source": "",
   "id": "bc8595c3c496d47b",
   "outputs": [],
   "execution_count": null
  },
  {
   "metadata": {
    "ExecuteTime": {
     "end_time": "2025-07-13T06:26:34.669913Z",
     "start_time": "2025-07-13T06:26:34.665504Z"
    }
   },
   "cell_type": "code",
   "source": "",
   "id": "82f1a544d2bab50e",
   "outputs": [],
   "execution_count": null
  }
 ],
 "metadata": {
  "kernelspec": {
   "display_name": "Python 3",
   "language": "python",
   "name": "python3"
  },
  "language_info": {
   "codemirror_mode": {
    "name": "ipython",
    "version": 2
   },
   "file_extension": ".py",
   "mimetype": "text/x-python",
   "name": "python",
   "nbconvert_exporter": "python",
   "pygments_lexer": "ipython2",
   "version": "2.7.6"
  }
 },
 "nbformat": 4,
 "nbformat_minor": 5
}
